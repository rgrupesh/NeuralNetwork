{
 "cells": [
  {
   "cell_type": "code",
   "execution_count": 50,
   "metadata": {},
   "outputs": [
    {
     "name": "stdout",
     "output_type": "stream",
     "text": [
      "Random syn weights:\n",
      "[[-0.16595599]\n",
      " [ 0.44064899]\n",
      " [-0.99977125]]\n",
      "Syn. weights after training: \n",
      "[[10.38040701]\n",
      " [-0.20641179]\n",
      " [-4.98452047]]\n",
      "Input 1: 0\n",
      "Input 2: 1\n",
      "Input 3: 1\n",
      "New situation: input data =  0 1 1\n",
      "Output data: \n",
      "[0.005536]\n"
     ]
    }
   ],
   "source": [
    "import numpy as np\n",
    "\n",
    "class NeuralNetwork():\n",
    "    def __init__(self):\n",
    "        np.random.seed(1)\n",
    "        self.sy_weights= 2 * np.random.random((3,1)) - 1\n",
    "        \n",
    "    def sig(self,x):\n",
    "        return 1 / (1 + (np.exp(-x)))\n",
    "    \n",
    "    def sig_derivative(self,x):\n",
    "        return x * (1 - x)\n",
    "\n",
    "    def train(self,train_in,train_out,train_iter):\n",
    "        for i in range(train_iter):\n",
    "            output=self.think(train_in)\n",
    "            error=train_out - output\n",
    "            adjustment = np.dot(train_in.T, error * self.sig_derivative(output))\n",
    "            self.sy_weights += adjustment\n",
    "        \n",
    "    def think(self, inputs):\n",
    "        inputs = inputs.astype(float)\n",
    "        output = self.sig(np.dot(inputs, self.sy_weights))\n",
    "        return output\n",
    "    \n",
    "if __name__==\"__main__\":\n",
    "    \n",
    "        neural_network=NeuralNetwork()\n",
    "   \n",
    "        print(\"Random syn weights:\")\n",
    "        print(neural_network.sy_weights)\n",
    "   \n",
    "        train_in = np.array([[0,0,1],\n",
    "                            [1,1,1],\n",
    "                            [1,0,1],\n",
    "                            [0,1,1]])\n",
    "\n",
    "        train_out = np.array([[0,1,1,0]]).T\n",
    "        \n",
    "        neural_network.train(train_in, train_out, 20000)\n",
    "\n",
    "        print(\"Syn. weights after training: \")\n",
    "        print(neural_network.sy_weights)\n",
    "\n",
    "        A = str(input(\"Input 1: \"))\n",
    "        B = str(input(\"Input 2: \"))\n",
    "        C = str(input(\"Input 3: \"))\n",
    "    \n",
    "        print(\"New situation: input data = \", A, B, C)\n",
    "        print(\"Output data: \")\n",
    "        print(neural_network.think(np.array([A, B, C])))\n",
    "\n",
    "\n",
    "\n",
    "    \n",
    "    "
   ]
  },
  {
   "cell_type": "code",
   "execution_count": null,
   "metadata": {},
   "outputs": [],
   "source": []
  },
  {
   "cell_type": "code",
   "execution_count": null,
   "metadata": {},
   "outputs": [],
   "source": []
  }
 ],
 "metadata": {
  "kernelspec": {
   "display_name": "Python 3",
   "language": "python",
   "name": "python3"
  },
  "language_info": {
   "codemirror_mode": {
    "name": "ipython",
    "version": 3
   },
   "file_extension": ".py",
   "mimetype": "text/x-python",
   "name": "python",
   "nbconvert_exporter": "python",
   "pygments_lexer": "ipython3",
   "version": "3.7.4"
  }
 },
 "nbformat": 4,
 "nbformat_minor": 2
}


